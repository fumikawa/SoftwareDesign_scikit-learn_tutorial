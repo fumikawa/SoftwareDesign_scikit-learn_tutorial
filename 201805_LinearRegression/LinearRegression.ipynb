{
 "cells": [
  {
   "cell_type": "code",
   "execution_count": null,
   "metadata": {},
   "outputs": [],
   "source": [
    "# ライブラリのインストール\n",
    "!pip install mglearn"
   ]
  },
  {
   "cell_type": "code",
   "execution_count": 1,
   "metadata": {},
   "outputs": [
    {
     "name": "stdout",
     "output_type": "stream",
     "text": [
      "coef: [-402.75223586  -50.07100112 -133.31690803  -12.00210232]\n",
      "intercept: 31.65\n",
      "Train score: 0.95\n",
      "Test score: 0.61\n"
     ]
    }
   ],
   "source": [
    "# 線形回帰モデルの実装\n",
    "\n",
    "# ①必要なライブラリのインポート\n",
    "from sklearn import linear_model\n",
    "from sklearn.model_selection import train_test_split\n",
    "from mglearn.datasets import load_extended_boston\n",
    "\n",
    "# ②データを読み込み、特徴量Xと目的変数yに分ける\n",
    "X, y = load_extended_boston()\n",
    "\n",
    "# ③データセットを訓練データとテストデータに分割(default設定で25%がテストに)\n",
    "X_train, X_test, y_train, y_test = train_test_split(X, y, random_state=0)\n",
    "\n",
    "# ④線形回帰モデルを適用する\n",
    "lm = linear_model.LinearRegression()\n",
    "lm.fit(X_train, y_train)\n",
    "print(f'coef: {lm.coef_[:4]}') # 先頭4個の重みパラメータの表示\n",
    "print(f'intercept: {lm.intercept_:.2f}') # バイアスパラメータの表示\n",
    "\n",
    "# ⑤訓練データとテストデータでモデルを評価\n",
    "print(f'Train score: {lm.score(X_train, y_train):.2f}')\n",
    "print(f'Test score: {lm.score(X_test, y_test):.2f}')"
   ]
  },
  {
   "cell_type": "code",
   "execution_count": 2,
   "metadata": {},
   "outputs": [
    {
     "name": "stdout",
     "output_type": "stream",
     "text": [
      "coef: [-1.45195306 -1.55625501 -1.45850339 -0.12825304]\n",
      "intercept: 21.42\n",
      "Train score: 0.89\n",
      "Test score: 0.75\n"
     ]
    }
   ],
   "source": [
    "# L2正則化(Ridge回帰)の実装\n",
    "\n",
    "# ①必要なライブラリのインポート\n",
    "from sklearn import linear_model\n",
    "from sklearn.model_selection import train_test_split\n",
    "from mglearn.datasets import load_extended_boston\n",
    "\n",
    "# ②データを読み込み、特徴量Xと目的変数yに分ける\n",
    "X, y = load_extended_boston()\n",
    "\n",
    "# ③データセットを訓練データとテストデータに分割(default設定で25%がテストに)\n",
    "X_train, X_test, y_train, y_test = train_test_split(X, y, random_state=0)\n",
    "\n",
    "# ④L2正則化（Ridge回帰）を適用する\n",
    "ridge = linear_model.Ridge()\n",
    "ridge.fit(X_train, y_train)\n",
    "print(f'coef: {ridge.coef_[:4]}') # 先頭4個の重みパラメータの表示\n",
    "print(f'intercept: {ridge.intercept_:.2f}') # バイアスパラメータの表示\n",
    "\n",
    "# ⑤訓練データとテストデータでモデルを評価\n",
    "print(f'Train score: {ridge.score(X_train, y_train):.2f}')\n",
    "print(f'Test score: {ridge.score(X_test, y_test):.2f}')"
   ]
  },
  {
   "cell_type": "code",
   "execution_count": 3,
   "metadata": {},
   "outputs": [
    {
     "name": "stdout",
     "output_type": "stream",
     "text": [
      "Number of nonzero parameters: 33\n",
      "Train score:0.90\n",
      "Test score:0.77\n"
     ]
    }
   ],
   "source": [
    "# L1正則化(Lasso)の実装\n",
    "\n",
    "# ①必要なライブラリのインポート\n",
    "import numpy as np\n",
    "from sklearn import linear_model\n",
    "from sklearn.model_selection import train_test_split\n",
    "from mglearn.datasets import load_extended_boston\n",
    "\n",
    "# ②データを読み込み、特徴量Xと目的変数yに分ける\n",
    "X, y = load_extended_boston()\n",
    "\n",
    "# ③データセットを訓練データとテストデータに分割\n",
    "X_train, X_test, y_train, y_test = train_test_split(X, y, random_state=0)\n",
    "\n",
    "# ④L1正則化(Lasso)モデルを適用する\n",
    "lasso = linear_model.Lasso(alpha=0.01, max_iter=10000)\n",
    "lasso.fit(X_train, y_train)\n",
    "print(f'Number of nonzero parameters: {np.count_nonzero(lasso.coef_)}')\n",
    "\n",
    "# ⑤訓練データとテストデータでモデルを評価\n",
    "print(f'Train score:{lasso.score(X_train, y_train):.2f}')\n",
    "print(f'Test score:{lasso.score(X_test, y_test):.2f}')"
   ]
  }
 ],
 "metadata": {
  "kernelspec": {
   "display_name": "Python 3",
   "language": "python",
   "name": "python3"
  },
  "language_info": {
   "codemirror_mode": {
    "name": "ipython",
    "version": 3
   },
   "file_extension": ".py",
   "mimetype": "text/x-python",
   "name": "python",
   "nbconvert_exporter": "python",
   "pygments_lexer": "ipython3",
   "version": "3.6.1"
  }
 },
 "nbformat": 4,
 "nbformat_minor": 2
}
